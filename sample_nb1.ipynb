{
  "nbformat": 4,
  "nbformat_minor": 0,
  "metadata": {
    "colab": {
      "provenance": []
    },
    "kernelspec": {
      "name": "python3",
      "display_name": "Python 3"
    },
    "language_info": {
      "name": "python"
    }
  },
  "cells": [
    {
      "cell_type": "code",
      "execution_count": null,
      "metadata": {
        "id": "rnIthI6wiOg3"
      },
      "outputs": [],
      "source": [
        "# operations: fillna, dropna, groupby, pivot, merge\n",
        "import pandas as pd\n",
        "\n",
        "# titanic dataset again\n",
        "titanic = pd.read_csv('https://raw.githubusercontent.com/datasciencedojo/datasets/master/titanic.csv')"
      ]
    },
    {
      "cell_type": "code",
      "source": [
        "# fillna\n",
        "filled_titanic = titanic.fillna({'Age': titanic['Age'].mean()})"
      ],
      "metadata": {
        "id": "TsxfQzKyiltl"
      },
      "execution_count": null,
      "outputs": []
    },
    {
      "cell_type": "code",
      "source": [
        "# dropna\n",
        "dropped_titanic = filled_titanic.dropna(subset=['Embarked'])"
      ],
      "metadata": {
        "id": "NReo-MYgilqV"
      },
      "execution_count": null,
      "outputs": []
    },
    {
      "cell_type": "code",
      "source": [
        "print(dropped_titanic.head())"
      ],
      "metadata": {
        "colab": {
          "base_uri": "https://localhost:8080/"
        },
        "id": "UaeIWORJsrU7",
        "outputId": "cbe06ea8-042a-44f5-a881-5b7438930811"
      },
      "execution_count": null,
      "outputs": [
        {
          "output_type": "stream",
          "name": "stdout",
          "text": [
            "   PassengerId  Survived  Pclass  \\\n",
            "0            1         0       3   \n",
            "1            2         1       1   \n",
            "2            3         1       3   \n",
            "3            4         1       1   \n",
            "4            5         0       3   \n",
            "\n",
            "                                                Name     Sex   Age  SibSp  \\\n",
            "0                            Braund, Mr. Owen Harris    male  22.0      1   \n",
            "1  Cumings, Mrs. John Bradley (Florence Briggs Th...  female  38.0      1   \n",
            "2                             Heikkinen, Miss. Laina  female  26.0      0   \n",
            "3       Futrelle, Mrs. Jacques Heath (Lily May Peel)  female  35.0      1   \n",
            "4                           Allen, Mr. William Henry    male  35.0      0   \n",
            "\n",
            "   Parch            Ticket     Fare Cabin Embarked  \n",
            "0      0         A/5 21171   7.2500   NaN        S  \n",
            "1      0          PC 17599  71.2833   C85        C  \n",
            "2      0  STON/O2. 3101282   7.9250   NaN        S  \n",
            "3      0            113803  53.1000  C123        S  \n",
            "4      0            373450   8.0500   NaN        S  \n"
          ]
        }
      ]
    },
    {
      "cell_type": "code",
      "source": [
        "# groupby and mean\n",
        "grouped_age = dropped_titanic.groupby('Pclass')['Age'].mean()\n",
        "print(grouped_age)"
      ],
      "metadata": {
        "id": "1NGux5JLilm7",
        "colab": {
          "base_uri": "https://localhost:8080/"
        },
        "outputId": "44c0039b-0db7-4a1d-a230-30db61478ad2"
      },
      "execution_count": null,
      "outputs": [
        {
          "output_type": "stream",
          "name": "stdout",
          "text": [
            "Pclass\n",
            "1    36.927073\n",
            "2    29.866958\n",
            "3    26.403259\n",
            "Name: Age, dtype: float64\n"
          ]
        }
      ]
    },
    {
      "cell_type": "code",
      "source": [
        "# pivot\n",
        "pivoted = dropped_titanic.pivot_table(index='Pclass', columns='Sex', values='Fare', aggfunc='mean')\n",
        "print(pivoted)"
      ],
      "metadata": {
        "id": "r_I4-UIAjDgW",
        "colab": {
          "base_uri": "https://localhost:8080/"
        },
        "outputId": "8b9c716d-f685-4529-a92c-84ae169f12b3"
      },
      "execution_count": null,
      "outputs": [
        {
          "output_type": "stream",
          "name": "stdout",
          "text": [
            "Sex         female       male\n",
            "Pclass                       \n",
            "1       106.693750  67.226127\n",
            "2        21.970121  19.741782\n",
            "3        16.118810  12.661633\n"
          ]
        }
      ]
    },
    {
      "cell_type": "code",
      "source": [
        "# merge with ports\n",
        "ports = pd.DataFrame({ 'Embarked': ['S', 'C', 'Q'], 'Port_Name': ['Southampton', 'Cherbourg', 'Queenstown']})\n",
        "merged = pd.merge(dropped_titanic, ports, on='Embarked', how='left')\n",
        "print(merged[['Name', 'Embarked', 'Port_Name']].head())"
      ],
      "metadata": {
        "id": "cvl4OA-IjDZ3",
        "colab": {
          "base_uri": "https://localhost:8080/"
        },
        "outputId": "0592ef53-0a8b-403f-d057-84708a736882"
      },
      "execution_count": null,
      "outputs": [
        {
          "output_type": "stream",
          "name": "stdout",
          "text": [
            "                                                Name Embarked    Port_Name\n",
            "0                            Braund, Mr. Owen Harris        S  Southampton\n",
            "1  Cumings, Mrs. John Bradley (Florence Briggs Th...        C    Cherbourg\n",
            "2                             Heikkinen, Miss. Laina        S  Southampton\n",
            "3       Futrelle, Mrs. Jacques Heath (Lily May Peel)        S  Southampton\n",
            "4                           Allen, Mr. William Henry        S  Southampton\n"
          ]
        }
      ]
    },
    {
      "cell_type": "code",
      "source": [],
      "metadata": {
        "id": "l4Lp_ie85Chm"
      },
      "execution_count": null,
      "outputs": []
    }
  ]
}